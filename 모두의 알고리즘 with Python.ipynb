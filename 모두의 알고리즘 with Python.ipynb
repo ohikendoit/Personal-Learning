{
 "cells": [
  {
   "cell_type": "code",
   "execution_count": 1,
   "metadata": {},
   "outputs": [
    {
     "name": "stdout",
     "output_type": "stream",
     "text": [
      "5\n",
      "3\n",
      "\n"
     ]
    }
   ],
   "source": [
    "#절대값 구하기\n",
    "\n",
    "import math\n",
    "\n",
    "#부호판단에 의한 방법\n",
    "def abs_sign(a):\n",
    "    if a >= 0:\n",
    "        return a\n",
    "    else:\n",
    "        return -a\n",
    "    \n",
    "#제곱의 제곱근에 대한 방법\n",
    "def abs_square(a):\n",
    "    b = a * a\n",
    "    return math.sqrt(b)\n",
    "\n",
    "print(abs_sign(5))\n",
    "print(abs_sign(-3))\n"
   ]
  },
  {
   "cell_type": "code",
   "execution_count": 6,
   "metadata": {},
   "outputs": [
    {
     "name": "stdout",
     "output_type": "stream",
     "text": [
      "55\n",
      "5050\n",
      "55\n",
      "5050\n"
     ]
    }
   ],
   "source": [
    "#1부터 n까지의 합을 구하기\n",
    "\n",
    "#합을 기록할 변수 s를 만들고 0을 저장한다\n",
    "#변수 i를 만들어 1부터 n까지의 숫자를 1씩 증가시키며 반복\n",
    "#[반복 블록] 기존의 s에 i를 더하여 얻은 값을 다시 s에 저장한다\n",
    "#반복이 끝났을 때 s에 저장된값이 결괏값\n",
    "\n",
    "def sum_n(n):\n",
    "    s = 0 #0에서 시작해 +1 하는것이 첫 덧샘\n",
    "    for i in range(1, n+1):\n",
    "        s = s + i\n",
    "    return s\n",
    "\n",
    "print(sum_n(10))\n",
    "print(sum_n(100))\n",
    "\n",
    "\n",
    "#가우스의 방법\n",
    "\n",
    "# n값에 관계없이 덧셈, 곱셈, 나눗셈을 한번씩만 하면되기에 가볍다\n",
    "def sum_n(n):\n",
    "    return n*(n+1) // 2\n",
    "\n",
    "print(sum_n(10))\n",
    "print(sum_n(100))\n"
   ]
  },
  {
   "cell_type": "code",
   "execution_count": 13,
   "metadata": {},
   "outputs": [
    {
     "name": "stdout",
     "output_type": "stream",
     "text": [
      "385\n",
      "338350\n"
     ]
    }
   ],
   "source": [
    "#1부터 n까지 연속한 숫자의 제곱의 합을 구하는 프로그램을\n",
    "#for 반복문으로 만들기\n",
    "\n",
    "def sum_square(n):\n",
    "    s=0\n",
    "    for i in range(1, n+1):\n",
    "        s= s + i * i\n",
    "    return s\n",
    "\n",
    "print(sum_square(10))\n",
    "print(sum_square(100))"
   ]
  },
  {
   "cell_type": "code",
   "execution_count": 3,
   "metadata": {},
   "outputs": [
    {
     "name": "stdout",
     "output_type": "stream",
     "text": [
      "92\n",
      "1\n"
     ]
    }
   ],
   "source": [
    "#최댓값을 구하기\n",
    "\n",
    "def find_max(a):\n",
    "    n = len(a)\n",
    "    max_v = a[0]\n",
    "    for i in range(1,n):\n",
    "        if a[i] > max_v:\n",
    "            max_v = a[i]\n",
    "    return max_v\n",
    "\n",
    "v = [17, 92, 18, 33, 58, 7, 33, 42]\n",
    "print(find_max(v))\n",
    "\n",
    "\n",
    "#최댓값의 위치 구하기\n",
    "\n",
    "def find_max_idx(a):\n",
    "    n = len(a)\n",
    "    max_idx = 0\n",
    "    for i in range (1,n):\n",
    "        if a[i] > a[max_idx]:\n",
    "            max_idx = i\n",
    "    return max_idx\n",
    "\n",
    "print(find_max_idx(v))"
   ]
  },
  {
   "cell_type": "code",
   "execution_count": 12,
   "metadata": {},
   "outputs": [
    {
     "name": "stdout",
     "output_type": "stream",
     "text": [
      "{'Tom'}\n"
     ]
    }
   ],
   "source": [
    "#집합을 이용해 동명이인을 찾기\n",
    "\n",
    "def find_same_name(a):\n",
    "    n = len(a)\n",
    "    result = set()\n",
    "    for i in range (0, n - 1):\n",
    "            for j in range (i + 1, n):\n",
    "                if a[i] == a[j]:\n",
    "                    result.add(a[i])\n",
    "    return result\n",
    "    \n",
    "name = [\"Tom\", \"Jerry\", \"Mike\", \"Tom\"]\n",
    "print(find_same_name(name))\n",
    "\n",
    "# 리스트에 있는 자료를 모두 비교\n",
    "# i=0, a[i]=\"Tom\", j=1,2,3\n",
    "# i=1, a[i]=\"Jerry\", j=2,3\n",
    "# i=2, a[i]=\"Mike\", j=3"
   ]
  },
  {
   "cell_type": "code",
   "execution_count": 2,
   "metadata": {},
   "outputs": [
    {
     "name": "stdout",
     "output_type": "stream",
     "text": [
      "1\n",
      "120\n",
      "3628800\n",
      "1\n",
      "120\n",
      "3628800\n"
     ]
    }
   ],
   "source": [
    "#재귀호출 (Recursion): 함수가 자기 자신을 다시 호출하는것\n",
    "\n",
    "#팩토리올 구하기 #n! = n*(n-1)! 응용\n",
    "def fact(n):\n",
    "    f = 1\n",
    "    for i in range(1, n + 1): # n+1은 제외\n",
    "        f = f * i\n",
    "    return f\n",
    "\n",
    "print(fact(1))\n",
    "print(fact(5))\n",
    "print(fact(10))\n",
    "\n",
    "def fact(n):\n",
    "    if n <= 1: #종료조건\n",
    "        return 1\n",
    "    return n*fact(n-1)\n",
    "\n",
    "print(fact(1))\n",
    "print(fact(5)) #fact(5)=5*fact(4)=5*4*fact(3)..*1\n",
    "print(fact(10))"
   ]
  },
  {
   "cell_type": "code",
   "execution_count": null,
   "metadata": {},
   "outputs": [],
   "source": [
    "#재귀호출의 일반적 형태\n",
    "\n",
    "def func(input):\n",
    "    if input is small enough:\n",
    "        return result\n",
    "    \n",
    "    ''\n",
    "    func(smaller input)\n",
    "    ''\n",
    "    return result #end condition"
   ]
  },
  {
   "cell_type": "code",
   "execution_count": 9,
   "metadata": {},
   "outputs": [
    {
     "name": "stdout",
     "output_type": "stream",
     "text": [
      "1\n",
      "3\n",
      "12\n",
      "1\n",
      "3\n",
      "12\n"
     ]
    }
   ],
   "source": [
    "#최대공약수 구하기\n",
    "\n",
    "def gcd(a,b):\n",
    "    i = min(a,b)\n",
    "    while True:\n",
    "        if a % i == 0 and b % i == 0: #divisible by\n",
    "            return i\n",
    "        i = i - 1\n",
    "        \n",
    "print(gcd(1,5))\n",
    "print(gcd(3,6))\n",
    "print(gcd(60,24))\n",
    "\n",
    "\n",
    "#유클리드 방식 #Euclidean Method\n",
    "\n",
    "def gcd(a,b):\n",
    "    if b == 0:\n",
    "        return a\n",
    "    return gcd(b, a%b)\n",
    "\n",
    "print(gcd(1,5))\n",
    "print(gcd(3,6))\n",
    "print(gcd(60,24)) #(60,24)-(24,12)-(12,0)-(12)"
   ]
  },
  {
   "cell_type": "code",
   "execution_count": 11,
   "metadata": {},
   "outputs": [
    {
     "name": "stdout",
     "output_type": "stream",
     "text": [
      "n = 1\n",
      "1 -> 3\n",
      "n = 2\n",
      "1 -> 2\n",
      "1 -> 3\n",
      "2 -> 3\n",
      "n = 3\n",
      "1 -> 3\n",
      "1 -> 2\n",
      "3 -> 2\n",
      "1 -> 3\n",
      "2 -> 1\n",
      "2 -> 3\n",
      "1 -> 3\n"
     ]
    }
   ],
   "source": [
    "#하노이의 탑 문제\n",
    "#기둥이 3개, 원반이 n개일때 n-1개 원반을 2번 기둥으로 옮기고\n",
    "#1번기둥에 있던 n번째 원반을 3번으로 옮기고 2번 기둥에 남은\n",
    "#원반을 1번 기둥을 보조 기둥삼아 3번 기둥으로 옮김\n",
    "\n",
    "def hanoi(n, from_pos, to_pos, aux_pos): #출발, 도착, 보조기둥\n",
    "    if n == 1:\n",
    "        print(from_pos, \"->\", to_pos)\n",
    "        return\n",
    "    \n",
    "    hanoi(n - 1, from_pos, aux_pos, to_pos)\n",
    "    print(from_pos, \"->\", to_pos)\n",
    "    hanoi(n - 1, aux_pos, to_pos, from_pos)\n",
    "    \n",
    "print(\"n = 1\")\n",
    "hanoi(1,1,3,2)\n",
    "\n",
    "print(\"n = 2\")\n",
    "hanoi(2,1,3,2)\n",
    "\n",
    "print(\"n = 3\")\n",
    "hanoi(3,1,3,2)\n",
    " \n",
    "#n층 하노이 탑을 옮기려면 원반을 모두 2^n-1번 옮겨야함"
   ]
  },
  {
   "cell_type": "code",
   "execution_count": 1,
   "metadata": {},
   "outputs": [
    {
     "name": "stdout",
     "output_type": "stream",
     "text": [
      "2\n",
      "3\n"
     ]
    }
   ],
   "source": [
    "#순차 탐색 (Sequential Search)\n",
    "\n",
    "def search_list(a,x): #a: list and x: target\n",
    "    n = len(a)\n",
    "    for i in range(0,n):\n",
    "        if x == a[i]:\n",
    "            return i\n",
    "\n",
    "    return -1 # 주어진 값이 없으면 -1\n",
    "\n",
    "v = [17, 92, 18, 33, 58, 7, 33, 42]\n",
    "print(search_list(v, 18))\n",
    "print(search_list(v, 33))"
   ]
  },
  {
   "cell_type": "code",
   "execution_count": 2,
   "metadata": {},
   "outputs": [
    {
     "name": "stdout",
     "output_type": "stream",
     "text": [
      "[1, 2, 3, 4, 5]\n"
     ]
    }
   ],
   "source": [
    "#선택 정렬 (Selection Sorting)\n",
    "\n",
    "def find_min_idx(a):\n",
    "    n = len(a)\n",
    "    min_idx = 0\n",
    "    for i in range(1,n):\n",
    "        if a[i] < a[min_idx]:\n",
    "            min_idx = i\n",
    "    return min_idx\n",
    "\n",
    "def sel_sort(a):\n",
    "    result = []\n",
    "    while a: #As long as the list contains value\n",
    "        min_idx = find_min_idx(a)\n",
    "        value = a.pop(min_idx) #Saving the least value\n",
    "        result.append(value)\n",
    "    return result\n",
    "\n",
    "d = [2,4,5,1,3]\n",
    "print(sel_sort(d))\n",
    "\n",
    "#sorted() or d.sort() works as well"
   ]
  },
  {
   "cell_type": "code",
   "execution_count": 4,
   "metadata": {},
   "outputs": [
    {
     "name": "stdout",
     "output_type": "stream",
     "text": [
      "[1, 2, 3, 4, 5]\n"
     ]
    }
   ],
   "source": [
    "#일반적인 선택 정렬\n",
    "\n",
    "def sel_sort(a):\n",
    "    n = len(a)\n",
    "    for i in range(0, n-1):\n",
    "        min_idx = i\n",
    "        for j in range(i + 1, n):\n",
    "            if a[j] < a[min_idx]:\n",
    "                min_idx = j\n",
    "        a[i], a[min_idx] = a[min_idx], a[i]\n",
    "    \n",
    "d = [2,4,5,1,3]\n",
    "sel_sort(d)\n",
    "print(d)"
   ]
  },
  {
   "cell_type": "code",
   "execution_count": 1,
   "metadata": {},
   "outputs": [
    {
     "name": "stdout",
     "output_type": "stream",
     "text": [
      "[1, 2, 3, 4, 5]\n"
     ]
    }
   ],
   "source": [
    "#삽입 정렬 (Insertion Sort)\n",
    "\n",
    "def find_ins_idx(r,v):\n",
    "    for i in range(0, len(r)):\n",
    "        if v < r[i]:\n",
    "            return i\n",
    "    return len(r)\n",
    "\n",
    "def ins_sort(a):\n",
    "    result = []\n",
    "    while a: #If the list has a value\n",
    "        value = a.pop(0) #Take the first value\n",
    "        ins_idx = find_ins_idx(result,value)\n",
    "        result.insert(ins_idx, value)\n",
    "    return result\n",
    "\n",
    "d = [2,4,5,1,3]\n",
    "print(ins_sort(d))"
   ]
  },
  {
   "cell_type": "code",
   "execution_count": 2,
   "metadata": {},
   "outputs": [
    {
     "name": "stdout",
     "output_type": "stream",
     "text": [
      "[1, 2, 3, 4, 5]\n"
     ]
    }
   ],
   "source": [
    "#일반적인 삽입 정렬\n",
    "\n",
    "def ins_sort(a):\n",
    "    n = len(a)\n",
    "    for i in range(1,n):\n",
    "        key = a[i] #save the i th value\n",
    "        j = i - 1 #save j to the left of i\n",
    "        while j >= 0 and a[j] > key:\n",
    "            a[j + 1] = a[j] #make space by shift right\n",
    "            j -= 1\n",
    "        a[j + 1] = key\n",
    "\n",
    "d = [2,4,5,1,3]\n",
    "ins_sort(d)\n",
    "print(d)"
   ]
  },
  {
   "cell_type": "code",
   "execution_count": 12,
   "metadata": {},
   "outputs": [
    {
     "name": "stdout",
     "output_type": "stream",
     "text": [
      "[1, 2, 3, 4, 5, 6, 7, 8, 9, 10]\n"
     ]
    }
   ],
   "source": [
    "#병합 정렬 (Merge Sort)\n",
    "#분할 정복 (Divide and Conquer) - 계산복잡도에 도움\n",
    "\n",
    "def merge_sort(a):\n",
    "    n = len(a)\n",
    "    if n <= 1:\n",
    "        return a\n",
    "    \n",
    "    mid = n // 2 #두그룹으로 나누기\n",
    "    g1 = merge_sort(a[:mid]) #재귀호출 첫 그룹\n",
    "    g2 = merge_sort(a[mid:]) #재귀호출 두번째 그룹\n",
    "    \n",
    "    result = []\n",
    "    while g1 and g2:\n",
    "        if g1[0] < g2[0]:\n",
    "            result.append(g1.pop(0)) #그룹병합\n",
    "        else:\n",
    "            result.append(g2.pop(0)) #그룹병합\n",
    "    \n",
    "    while g1:\n",
    "        result.append(g1.pop(0))\n",
    "    while g2:\n",
    "        result.append(g2.pop(0))\n",
    "        \n",
    "    return result\n",
    "\n",
    "d = [6, 8, 3, 9, 10, 1, 2, 4, 7, 5]\n",
    "print(merge_sort(d))\n",
    "\n"
   ]
  },
  {
   "cell_type": "code",
   "execution_count": 5,
   "metadata": {},
   "outputs": [
    {
     "name": "stdout",
     "output_type": "stream",
     "text": [
      "[1, 2, 3, 4, 5, 6, 7, 8, 9, 10]\n"
     ]
    }
   ],
   "source": [
    "#일반적인 병합 정렬\n",
    "\n",
    "def merge_sort(a):\n",
    "    n = len(a)\n",
    "    if n <= 1:\n",
    "        return\n",
    "    \n",
    "    mid = n // 2\n",
    "    g1 = a[:mid]\n",
    "    g2 = a[mid:]\n",
    "    merge_sort(g1)\n",
    "    merge_sort(g2)\n",
    "    \n",
    "    i1 = 0\n",
    "    i2 = 0\n",
    "    ia = 0\n",
    "    \n",
    "    while i1 < len(g1) and i2 < len(g2):\n",
    "        if g1[i1] < g2[i2]:\n",
    "            a[ia] = g1[i1]\n",
    "            i1 += 1\n",
    "            ia += 1\n",
    "        else:\n",
    "            a[ia] = g2[i2]\n",
    "            i2 += 1\n",
    "            ia += 1\n",
    "        \n",
    "    while i1 < len(g1):\n",
    "        a[ia] = g1[i1]\n",
    "        i1 += 1\n",
    "        ia += 1\n",
    "    while i2 < len(g2):\n",
    "        a[ia] = g2[i2]\n",
    "        i2 += 1\n",
    "        ia += 1\n",
    "        \n",
    "d = [6, 8, 3, 9, 10, 1, 2, 4, 7, 5]\n",
    "merge_sort(d)\n",
    "print(d)\n",
    "\n"
   ]
  },
  {
   "cell_type": "code",
   "execution_count": 9,
   "metadata": {},
   "outputs": [
    {
     "name": "stdout",
     "output_type": "stream",
     "text": [
      "[1, 2, 3, 4, 5, 6, 7, 8, 9, 10]\n"
     ]
    }
   ],
   "source": [
    "#퀵정렬 (Quicksort)\n",
    "\n",
    "def quick_sort(a):\n",
    "    n = len(a)\n",
    "    if n <= 1:\n",
    "        return a #종료 조건\n",
    "    \n",
    "    pivot=a[-1] #편의상 마지막 값\n",
    "    g1 = []\n",
    "    g2 = []\n",
    "    for i in range(0, n - 1): #기준값 제외\n",
    "        if a[i] < pivot:\n",
    "            g1.append(a[i])\n",
    "        else:\n",
    "            g2.append(a[i])\n",
    "    \n",
    "    return quick_sort(g1) + [pivot] + quick_sort(g2)\n",
    "\n",
    "d = [6, 8, 3, 9, 10, 1, 2, 4, 7, 5]\n",
    "print(quick_sort(d))\n"
   ]
  },
  {
   "cell_type": "code",
   "execution_count": 10,
   "metadata": {},
   "outputs": [
    {
     "name": "stdout",
     "output_type": "stream",
     "text": [
      "[1, 2, 3, 4, 5, 6, 7, 8, 9, 10]\n"
     ]
    }
   ],
   "source": [
    "#일반적인 퀵 정렬\n",
    "#평균 계산 복잡도 O(n, log n)\n",
    "\n",
    "def quick_sort_sub(a, start, end):\n",
    "    if end - start <= 0:\n",
    "        return\n",
    "    pivot = a[end]\n",
    "    i = start\n",
    "    for j in range(start, end):\n",
    "        if a [j] <= pivot:\n",
    "            a[i], a[j] = a[j], a[i]\n",
    "            i += 1\n",
    "    a[i], a[end] = a[end], a[i]\n",
    "    \n",
    "    quick_sort_sub(a, start, i - 1)\n",
    "    quick_sort_sub(a, i + 1, end)\n",
    "    \n",
    "\n",
    "def quick_sort(a):\n",
    "    quick_sort_sub(a, 0, len(a) - 1)\n",
    "    \n",
    "d = [6, 8, 3, 9, 10, 1, 2, 4, 7, 5]\n",
    "quick_sort(d)\n",
    "print(d)\n"
   ]
  }
 ],
 "metadata": {
  "kernelspec": {
   "display_name": "Python 3",
   "language": "python",
   "name": "python3"
  },
  "language_info": {
   "codemirror_mode": {
    "name": "ipython",
    "version": 3
   },
   "file_extension": ".py",
   "mimetype": "text/x-python",
   "name": "python",
   "nbconvert_exporter": "python",
   "pygments_lexer": "ipython3",
   "version": "3.7.1"
  }
 },
 "nbformat": 4,
 "nbformat_minor": 2
}
